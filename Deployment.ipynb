{
 "cells": [
  {
   "cell_type": "code",
   "execution_count": 1,
   "id": "5e4ee831-d513-4cfe-a2e6-785876aa3bc1",
   "metadata": {},
   "outputs": [],
   "source": [
    "import pickle\n",
    "import pandas as pd"
   ]
  },
  {
   "cell_type": "code",
   "execution_count": 2,
   "id": "e53b5bd8-18c1-4430-b715-d3368f282f18",
   "metadata": {},
   "outputs": [],
   "source": [
    "dataset = pd.read_csv(\"cleaned_dataset.csv\")\n",
    "y = dataset.iloc[:, 20].values\n",
    "\n",
    "dataset1=pd.read_csv(\"cleaned_dataset.csv\",index_col=None)\n",
    "df2=dataset1\n",
    "\n",
    "\n",
    "from sklearn.feature_selection import SelectKBest\n",
    "from sklearn.feature_selection import chi2\n",
    "from sklearn.model_selection import train_test_split \n",
    "indep_X=df2.drop('Churn', axis=1)\n",
    "dep_Y=df2['Churn']\n",
    "def selectkbest(indep_X,dep_Y,n):\n",
    "        test = SelectKBest(score_func=chi2, k=n)\n",
    "        fit1= test.fit(indep_X,dep_Y)\n",
    "        selectk_features = fit1.transform(indep_X)\n",
    "        return selectk_features\n",
    "\n",
    "def split_scalar(indep_X,dep_Y):\n",
    "        X_train, X_test, y_train, y_test = train_test_split(indep_X, dep_Y, test_size = 0.25, random_state = 0)\n",
    "        sc = StandardScaler()\n",
    "        X_train = sc.fit_transform(X_train)\n",
    "        X_test = sc.transform(X_test)    \n",
    "        return X_train, X_test, y_train, y_test\n",
    "kbest=selectkbest(indep_X,dep_Y,5)  \n",
    "\n",
    "# Split the data into training and testing sets using the original X and y\n",
    "X_train, X_test, y_train, y_test = train_test_split(kbest, y, test_size=0.2, random_state=42)"
   ]
  },
  {
   "cell_type": "code",
   "execution_count": 3,
   "id": "ad883702-d4a2-4516-87bf-a96f1abae356",
   "metadata": {},
   "outputs": [],
   "source": [
    "from sklearn.preprocessing import StandardScaler\n",
    "sc = StandardScaler()\n",
    "X_train_= sc.fit_transform(X_train)\n",
    "X_test_= sc.transform(X_test)"
   ]
  },
  {
   "cell_type": "code",
   "execution_count": 4,
   "id": "9f1d31f0-5440-4b6d-8228-f27c4588ff15",
   "metadata": {},
   "outputs": [],
   "source": [
    "preinput = sc.transform([[0, 0, 1, 0, 0]])"
   ]
  },
  {
   "cell_type": "code",
   "execution_count": 5,
   "id": "aeb0d2a7-e790-42be-9dad-40ea8ee6733f",
   "metadata": {},
   "outputs": [
    {
     "data": {
      "text/plain": [
       "array([[-0.82991509, -2.14433934, -1.0041587 , -2.13806082, -1.12431207]])"
      ]
     },
     "execution_count": 5,
     "metadata": {},
     "output_type": "execute_result"
    }
   ],
   "source": [
    "preinput"
   ]
  },
  {
   "cell_type": "code",
   "execution_count": 6,
   "id": "956f50c3-6edf-42c6-baa4-1fb2dbc65521",
   "metadata": {},
   "outputs": [],
   "source": [
    "model = pickle.load(open(\"CCP_Finalized_RF_Model.sav\",'rb'))"
   ]
  },
  {
   "cell_type": "code",
   "execution_count": 7,
   "id": "754db310-bd4f-4f05-aea3-d37703e2e544",
   "metadata": {},
   "outputs": [
    {
     "name": "stdout",
     "output_type": "stream",
     "text": [
      "Future_Prediction=[0]\n"
     ]
    }
   ],
   "source": [
    "Future_Prediction=model.predict(preinput)\n",
    "print(\"Future_Prediction={}\".format(Future_Prediction))"
   ]
  }
 ],
 "metadata": {
  "kernelspec": {
   "display_name": "Python 3 (ipykernel)",
   "language": "python",
   "name": "python3"
  },
  "language_info": {
   "codemirror_mode": {
    "name": "ipython",
    "version": 3
   },
   "file_extension": ".py",
   "mimetype": "text/x-python",
   "name": "python",
   "nbconvert_exporter": "python",
   "pygments_lexer": "ipython3",
   "version": "3.13.5"
  }
 },
 "nbformat": 4,
 "nbformat_minor": 5
}
